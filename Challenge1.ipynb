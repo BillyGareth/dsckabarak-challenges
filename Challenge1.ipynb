{
  "nbformat": 4,
  "nbformat_minor": 0,
  "metadata": {
    "colab": {
      "name": "Challenge1.ipynb",
      "provenance": []
    },
    "kernelspec": {
      "name": "python3",
      "display_name": "Python 3"
    },
    "language_info": {
      "name": "python"
    }
  },
  "cells": [
    {
      "cell_type": "markdown",
      "metadata": {
        "id": "-jRwl1HcaF44"
      },
      "source": [
        "#Mad Libs Generator"
      ]
    },
    {
      "cell_type": "markdown",
      "metadata": {
        "id": "OPnrnOsirCH6"
      },
      "source": [
        "#Import Relevant Libraries"
      ]
    },
    {
      "cell_type": "code",
      "metadata": {
        "id": "ksAqf3EXq2XS"
      },
      "source": [
        "import copy,time\n",
        "from random import randint as rint"
      ],
      "execution_count": null,
      "outputs": []
    },
    {
      "cell_type": "markdown",
      "metadata": {
        "id": "FuCea3SLrK9f"
      },
      "source": [
        "##Code Functionality in solving puzzles : \"concept\""
      ]
    },
    {
      "cell_type": "code",
      "metadata": {
        "id": "t8sIvJuUo7Pu"
      },
      "source": [
        "playerName = input()\n",
        "Country = input()\n",
        "skillLevel = input()\n",
        "biggestTrait = input()\n",
        "howFast = input()\n",
        "goals = input()\n",
        "rating = input()\n",
        "\n",
        "Typing style\n",
        "Player's image"
      ],
      "execution_count": null,
      "outputs": []
    },
    {
      "cell_type": "code",
      "metadata": {
        "id": "ZE0hl04PrzJu"
      },
      "source": [
        "myWordGameStory = (\n",
        "    \"According to me the best player in the world is {} who is an extremely skilled player from {}.\" +\n",
        "    \" The level of skillset this player possesses is {}. The players has various admirable characteristics such as \" +\n",
        "    \" {} , calmness and kindness. The player is {} in moving past various opponents and also has exemplary dribbling\" +  \n",
        "    \" capacity.\" + \n",
        "    \" I have witnessed the player score about {} goals in the history of football.\" + \n",
        "    \" I would give this player a {} level of accomplishments and term him as a genius the world has ever had.\"\n",
        ")"
      ],
      "execution_count": null,
      "outputs": []
    },
    {
      "cell_type": "code",
      "metadata": {
        "id": "PUvv9SkGuFBJ"
      },
      "source": [
        "mychoices_dict = {\n",
        "    'playerName' : ['Lionel Messi','Cristiano Ronaldo','Bruno Fernandes'],\n",
        "    'Country' : ['Argentina', 'Portugal'],\n",
        "    'skillLevel' : ['extraordinary','expertise','outstanding','unmatched','incredible'],\n",
        "    'biggestTrait' : ['humility','hardwork','diligence','respectful','humane','persistence'],\n",
        "    'howFast' : ['superfast','incredibly fast', 'extremely quick','a flying body'],\n",
        "    'goals' : ['732','770','560'],\n",
        "    'rating' : ['98%','9.4/10','97.1%','infinite']\n",
        "}"
      ],
      "execution_count": null,
      "outputs": []
    },
    {
      "cell_type": "markdown",
      "metadata": {
        "id": "oTMHpZ3N3U1L"
      },
      "source": [
        "## Words extractor\n",
        "\n",
        "\n",
        "> Picks words listed within the dictionary and randomizes their occurrence so that any is picked to fill in the gap as suited.\n",
        "\n"
      ]
    },
    {
      "cell_type": "code",
      "metadata": {
        "id": "tmwXh0c11Ck5"
      },
      "source": [
        "def word_extract(mychoicesSpecified,remoteDictionary):\n",
        "\n",
        "\n",
        "  listedwords = remoteDictionary[mychoicesSpecified]\n",
        "  numOfWords = len(listedwords) -1\n",
        "  locIndex  = rint(0,numOfWords)\n",
        "\n",
        "\n",
        "  return remoteDictionary[mychoicesSpecified].pop(locIndex)"
      ],
      "execution_count": null,
      "outputs": []
    },
    {
      "cell_type": "markdown",
      "metadata": {
        "id": "V5M3K0Om3B8F"
      },
      "source": [
        "###Placing the format and uniqueness of the choices specified from the dictionary provided\n",
        "\n",
        "> Generates the story and fills it with randomized words.\n",
        "\n"
      ]
    },
    {
      "cell_type": "code",
      "metadata": {
        "id": "tadRYMUk3S8-"
      },
      "source": [
        "def solvedStoryGenerator():\n",
        "  remoteDictionary = copy.deepcopy(mychoices_dict)\n",
        "  return myWordGameStory.format(\n",
        "      word_extract('playerName',remoteDictionary),\n",
        "      word_extract('Country',remoteDictionary),\n",
        "      word_extract('skillLevel',remoteDictionary),\n",
        "      word_extract('biggestTrait',remoteDictionary),\n",
        "      word_extract('howFast',remoteDictionary),\n",
        "      word_extract('goals',remoteDictionary),\n",
        "      word_extract('rating',remoteDictionary)\n",
        "  )"
      ],
      "execution_count": null,
      "outputs": []
    },
    {
      "cell_type": "code",
      "metadata": {
        "colab": {
          "base_uri": "https://localhost:8080/"
        },
        "id": "BnL65GAy55Mv",
        "outputId": "2bf39a0e-7ee0-4e9b-ed3d-49d3980d20e8"
      },
      "source": [
        "print(\"Final Story:...\")\n",
        "print(solvedStoryGenerator())\n",
        "print(\"***************************************\")\n",
        "\n",
        "for i in solvedStoryGenerator():\n",
        "    print(i,end='')\n",
        "    time.sleep(.3)\n",
        "print()"
      ],
      "execution_count": null,
      "outputs": [
        {
          "output_type": "stream",
          "text": [
            "Final Story:...\n",
            "According to me the best player in the world is Bruno Fernandes who is an extremely skilled player from Portugal. The level of skillset this player possesses is expertise. The players has various admirable characteristics such as  humane , calmness and kindness. The player is incredibly fast in moving past various opponents and also has exemplary dribblingcapacity. I have witnessed the player score about 732 goals in the history of football. I would give this player a 97.1% level of accomplishments and term him as a genius the world has ever had.\n",
            "***************************************\n",
            "According to me the best player in the world is Bruno Fernandes who is an extremely skilled player from Portugal. The level of skillset this player possesses is outstanding. The players has various admirable characteristics such as  humility , calmness and kindness. The player is incredibly fast in moving past various opponents and also has exemplary dribblingcapacity. I have witnessed the player score about 560 goals in the history of football. I would give this player a 97.1% level of accomplishments and term him as a genius the world has ever had.\n"
          ],
          "name": "stdout"
        }
      ]
    }
  ]
}