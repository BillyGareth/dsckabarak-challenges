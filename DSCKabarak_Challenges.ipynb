{
  "nbformat": 4,
  "nbformat_minor": 0,
  "metadata": {
    "colab": {
      "name": "DSCKabarak-Challenges.ipynb",
      "provenance": [],
      "collapsed_sections": [],
      "toc_visible": true
    },
    "kernelspec": {
      "name": "python3",
      "display_name": "Python 3"
    }
  },
  "cells": [
    {
      "cell_type": "markdown",
      "metadata": {
        "id": "-jRwl1HcaF44"
      },
      "source": [
        "#Mad Libs Generator"
      ]
    },
    {
      "cell_type": "markdown",
      "metadata": {
        "id": "OPnrnOsirCH6"
      },
      "source": [
        "#Import Relevant Libraries"
      ]
    },
    {
      "cell_type": "code",
      "metadata": {
        "id": "ksAqf3EXq2XS"
      },
      "source": [
        "import copy,time\n",
        "from random import randint as rint"
      ],
      "execution_count": null,
      "outputs": []
    },
    {
      "cell_type": "markdown",
      "metadata": {
        "id": "FuCea3SLrK9f"
      },
      "source": [
        "##Code Functionality in solving puzzles : \"concept\""
      ]
    },
    {
      "cell_type": "code",
      "metadata": {
        "id": "t8sIvJuUo7Pu"
      },
      "source": [
        "playerName = input()\n",
        "Country = input()\n",
        "skillLevel = input()\n",
        "biggestTrait = input()\n",
        "howFast = input()\n",
        "goals = input()\n",
        "rating = input()\n",
        "\n",
        "Typing style\n",
        "Player's image"
      ],
      "execution_count": null,
      "outputs": []
    },
    {
      "cell_type": "code",
      "metadata": {
        "id": "ZE0hl04PrzJu"
      },
      "source": [
        "myWordGameStory = (\n",
        "    \"According to me the best player in the world is {} who is an extremely skilled player from {}.\" +\n",
        "    \" The level of skillset this player possesses is {}. The players has various admirable characteristics such as \" +\n",
        "    \" {} , calmness and kindness. The player is {} in moving past various opponents and also has exemplary dribbling\" +  \n",
        "    \" capacity.\" + \n",
        "    \" I have witnessed the player score about {} goals in the history of football.\" + \n",
        "    \" I would give this player a {} level of accomplishments and term him as a genius the world has ever had.\"\n",
        ")"
      ],
      "execution_count": null,
      "outputs": []
    },
    {
      "cell_type": "code",
      "metadata": {
        "id": "PUvv9SkGuFBJ"
      },
      "source": [
        "mychoices_dict = {\n",
        "    'playerName' : ['Lionel Messi','Cristiano Ronaldo','Bruno Fernandes'],\n",
        "    'Country' : ['Argentina', 'Portugal'],\n",
        "    'skillLevel' : ['extraordinary','expertise','outstanding','unmatched','incredible'],\n",
        "    'biggestTrait' : ['humility','hardwork','diligence','respectful','humane','persistence'],\n",
        "    'howFast' : ['superfast','incredibly fast', 'extremely quick','a flying body'],\n",
        "    'goals' : ['732','770','560'],\n",
        "    'rating' : ['98%','9.4/10','97.1%','infinite']\n",
        "}"
      ],
      "execution_count": null,
      "outputs": []
    },
    {
      "cell_type": "markdown",
      "metadata": {
        "id": "oTMHpZ3N3U1L"
      },
      "source": [
        "## Words extractor\n",
        "\n",
        "\n",
        "> Picks words listed within the dictionary and randomizes their occurrence so that any is picked to fill in the gap as suited.\n",
        "\n"
      ]
    },
    {
      "cell_type": "code",
      "metadata": {
        "id": "tmwXh0c11Ck5"
      },
      "source": [
        "def word_extract(mychoicesSpecified,remoteDictionary):\n",
        "\n",
        "\n",
        "  listedwords = remoteDictionary[mychoicesSpecified]\n",
        "  numOfWords = len(listedwords) -1\n",
        "  locIndex  = rint(0,numOfWords)\n",
        "\n",
        "\n",
        "  return remoteDictionary[mychoicesSpecified].pop(locIndex)"
      ],
      "execution_count": null,
      "outputs": []
    },
    {
      "cell_type": "markdown",
      "metadata": {
        "id": "V5M3K0Om3B8F"
      },
      "source": [
        "###Placing the format and uniqueness of the choices specified from the dictionary provided\n",
        "\n",
        "> Generates the story and fills it with randomized words.\n",
        "\n"
      ]
    },
    {
      "cell_type": "code",
      "metadata": {
        "id": "tadRYMUk3S8-"
      },
      "source": [
        "def solvedStoryGenerator():\n",
        "  remoteDictionary = copy.deepcopy(mychoices_dict)\n",
        "  return myWordGameStory.format(\n",
        "      word_extract('playerName',remoteDictionary),\n",
        "      word_extract('Country',remoteDictionary),\n",
        "      word_extract('skillLevel',remoteDictionary),\n",
        "      word_extract('biggestTrait',remoteDictionary),\n",
        "      word_extract('howFast',remoteDictionary),\n",
        "      word_extract('goals',remoteDictionary),\n",
        "      word_extract('rating',remoteDictionary)\n",
        "  )"
      ],
      "execution_count": null,
      "outputs": []
    },
    {
      "cell_type": "code",
      "metadata": {
        "colab": {
          "base_uri": "https://localhost:8080/"
        },
        "id": "BnL65GAy55Mv",
        "outputId": "2bf39a0e-7ee0-4e9b-ed3d-49d3980d20e8"
      },
      "source": [
        "print(\"Final Story:...\")\n",
        "print(solvedStoryGenerator())\n",
        "print(\"***************************************\")\n",
        "\n",
        "for i in solvedStoryGenerator():\n",
        "    print(i,end='')\n",
        "    time.sleep(.3)\n",
        "print()"
      ],
      "execution_count": null,
      "outputs": [
        {
          "output_type": "stream",
          "text": [
            "Final Story:...\n",
            "According to me the best player in the world is Bruno Fernandes who is an extremely skilled player from Portugal. The level of skillset this player possesses is expertise. The players has various admirable characteristics such as  humane , calmness and kindness. The player is incredibly fast in moving past various opponents and also has exemplary dribblingcapacity. I have witnessed the player score about 732 goals in the history of football. I would give this player a 97.1% level of accomplishments and term him as a genius the world has ever had.\n",
            "***************************************\n",
            "According to me the best player in the world is Bruno Fernandes who is an extremely skilled player from Portugal. The level of skillset this player possesses is outstanding. The players has various admirable characteristics such as  humility , calmness and kindness. The player is incredibly fast in moving past various opponents and also has exemplary dribblingcapacity. I have witnessed the player score about 560 goals in the history of football. I would give this player a 97.1% level of accomplishments and term him as a genius the world has ever had.\n"
          ],
          "name": "stdout"
        }
      ]
    },
    {
      "cell_type": "markdown",
      "metadata": {
        "id": "GUOxl4IZaRjP"
      },
      "source": [
        "# Random Generator"
      ]
    },
    {
      "cell_type": "code",
      "metadata": {
        "id": "9r2sWlrhNijt"
      },
      "source": [
        "import numpy as np\n",
        "import random\n",
        "import math"
      ],
      "execution_count": 1,
      "outputs": []
    },
    {
      "cell_type": "code",
      "metadata": {
        "colab": {
          "base_uri": "https://localhost:8080/"
        },
        "id": "hkeZmcenaci5",
        "outputId": "063969ca-ffce-40a2-a5a0-16a1e7cfe12d"
      },
      "source": [
        "random.seed(8)\n",
        "\n",
        "playerScore = 0\n",
        "value = random.randint(1,100)\n",
        "\n",
        "#Hint\n",
        "if value % 2 == 0:\n",
        "  print(\"The value is an even number\")\n",
        "  if value >= 0 and value < 10 :\n",
        "    value = str(value)\n",
        "    value = value.zfill(2)\n",
        "    #value = int(value)\n",
        "    print(\"The value is greater or equal to 0 but less than 10\")\n",
        "  elif value > 9 and value < 20 :\n",
        "    print(\"The value is greater than 9 but less than 20\")\n",
        "  elif value > 19 and value < 30 :\n",
        "    print(\"The value is greater than 19 but less than 30\")\n",
        "  elif value > 29 and value < 40 :\n",
        "    print(\"The value is greater than 29 but less than 40\")\n",
        "  elif value > 39 and value < 50 :\n",
        "    print(\"The value is greater than 39 but less than 50\")\n",
        "  elif value > 49 and value < 60 :\n",
        "    print(\"The value is greater than 49 but less than 60\")\n",
        "  elif value > 59 and value < 70 :\n",
        "    print(\"The value is greater than 59 but less than 70\")\n",
        "  elif value > 69 and value < 80 :\n",
        "    print(\"The value is greater than 69 but less than 80\")\n",
        "  elif value > 79 and value < 90 :\n",
        "    print(\"The value is greater than 79 but less than 90\")\n",
        "  else:\n",
        "    print(\"The value is greater than 89 but less than/equal to 100\")\n",
        "else:\n",
        "  print(\"it is an odd number\")\n",
        "  if value >= 0 and value < 10 :\n",
        "    value = str(value)\n",
        "    value = value.zfill(2)\n",
        "    #value = int(value)\n",
        "    print(\"The value is greater or equal to 0 but less than 10\")\n",
        "  elif value > 9 and value < 20 :\n",
        "    print(\"The value is greater than 9 but less than 20\")\n",
        "  elif value > 19 and value < 30 :\n",
        "    print(\"The value is greater than 19 but less than 30\")\n",
        "  elif value > 29 and value < 40 :\n",
        "    print(\"The value is greater than 29 but less than 40\")\n",
        "  elif value > 39 and value < 50 :\n",
        "    print(\"The value is greater than 39 but less than 50\")\n",
        "  elif value > 49 and value < 60 :\n",
        "    print(\"The value is greater than 49 but less than 60\")\n",
        "  elif value > 59 and value < 70 :\n",
        "    print(\"The value is greater than 59 but less than 70\")\n",
        "  elif value > 69 and value < 80 :\n",
        "    print(\"The value is greater than 69 but less than 80\")\n",
        "  elif value > 79 and value < 90 :\n",
        "    print(\"The value is greater than 79 but less than 90\")\n",
        "  else:\n",
        "    print(\"The value is greater than 89 but less than/equal to 100\")\n",
        "\n",
        "#Guess the number\n",
        "guessedValue = int(input(\"Guess and key in an integer value in the range 0 to 100 --> \"))\n",
        "\n",
        "n = value\n",
        "\n",
        "def distance(guessedValue, value):\n",
        "    if guessedValue >= value:\n",
        "        result = guessedValue - value\n",
        "    else:\n",
        "        result = value - guessedValue\n",
        "    return result\n",
        "print(\"The difference between your number and the actual number is:\")\n",
        "print(distance(guessedValue,value))\n",
        "#player score calculation\n",
        "if value != guessedValue:\n",
        "  playerScore=-1\n",
        "  print(\"WRONG!Please try again\")\n",
        "  def firstDigit(n) :\n",
        "    # Find total number of digits - 1\n",
        "    digits = (int)(math.log10(n))\n",
        "    # Find first digit\n",
        "    n = (int)(n / pow(10, digits))\n",
        "    # Return first digit\n",
        "    return n;\n",
        "\n",
        "  print(\"The first digit of the number is-->\")\n",
        "  print(firstDigit(n))\n",
        "  guessedValue = int(input(\"Used the hint above\"))\n",
        "  print(\"The difference between your number and the actual number is:\")\n",
        "  print(distance(guessedValue,value))\n",
        "\n",
        "  if value != guessedValue:\n",
        "    playerScore=-1\n",
        "    print(\"WRONG!Please try again\")\n",
        "    def lastDigit(n) :\n",
        "      # return the last digit\n",
        "      return (n % 10)\n",
        "    print(\"The last digit of the number is-->\")\n",
        "    print(lastDigit(n))\n",
        "    guessedValue = int(input(\"Used the hint above\"))\n",
        "    print(\"The difference between your number and the actual number is:\")\n",
        "    print(distance(guessedValue,value))\n",
        "\n",
        "    if value != guessedValue:\n",
        "      playerScore=-1\n",
        "      print(\"The difference between your number and the actual number is:\")\n",
        "      print(distance(guessedValue,value))\n",
        "      print(\"Try the whole concept once again\")\n",
        "    else:\n",
        "      playerScore=+5\n",
        "      print(\"Congratulations....Pretty good guess!\")\n",
        "\n",
        "  else:\n",
        "    playerScore=+5\n",
        "    print(\"Congratulations....Pretty good guess!\")\n",
        "\n",
        "else:\n",
        "  playerScore=+5\n",
        "  print(\"Congratulations....Pretty good guess!\")\n",
        "\n",
        "print(playerScore)\n",
        "print(value)"
      ],
      "execution_count": 27,
      "outputs": [
        {
          "output_type": "stream",
          "text": [
            "The value is an even number\n",
            "The value is greater than 29 but less than 40\n",
            "Guess and key in an integer value in the range 0 to 100 --> 32\n",
            "The difference between your number and the actual number is:\n",
            "2\n",
            "WRONG!Please try again\n",
            "The first digit of the number is-->\n",
            "3\n",
            "Used the hint above38\n",
            "The difference between your number and the actual number is:\n",
            "8\n",
            "WRONG!Please try again\n",
            "The last digit of the number is-->\n",
            "0\n",
            "Used the hint above30\n",
            "The difference between your number and the actual number is:\n",
            "0\n",
            "Congratulations....Pretty good guess!\n",
            "5\n",
            "30\n"
          ],
          "name": "stdout"
        }
      ]
    }
  ]
}